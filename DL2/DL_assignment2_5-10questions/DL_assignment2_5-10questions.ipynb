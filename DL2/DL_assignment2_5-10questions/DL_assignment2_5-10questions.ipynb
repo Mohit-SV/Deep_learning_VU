{
 "cells": [
  {
   "cell_type": "markdown",
   "id": "494462c4",
   "metadata": {},
   "source": [
    "Submitted by: Venkat Mohit Sornapudi (2721697)"
   ]
  },
  {
   "cell_type": "code",
   "execution_count": 1,
   "id": "47a529da",
   "metadata": {},
   "outputs": [],
   "source": [
    "import vugrad as vg\n",
    "import numpy as np"
   ]
  },
  {
   "cell_type": "markdown",
   "id": "9e09371e",
   "metadata": {},
   "source": [
    "# Question 5"
   ]
  },
  {
   "cell_type": "code",
   "execution_count": 2,
   "id": "497dbf44",
   "metadata": {},
   "outputs": [],
   "source": [
    "a = vg.TensorNode(np.random.randn(2, 2))\n",
    "b = vg.TensorNode(np.random.randn(2, 2))"
   ]
  },
  {
   "cell_type": "code",
   "execution_count": 3,
   "id": "23e3f39a",
   "metadata": {},
   "outputs": [
    {
     "data": {
      "text/plain": [
       "array([[ 1.44886107,  0.88702338],\n",
       "       [-1.01396472,  0.24383082]])"
      ]
     },
     "execution_count": 3,
     "metadata": {},
     "output_type": "execute_result"
    }
   ],
   "source": [
    "a.value"
   ]
  },
  {
   "cell_type": "code",
   "execution_count": 4,
   "id": "50e87d1f",
   "metadata": {},
   "outputs": [
    {
     "data": {
      "text/plain": [
       "array([[ 0.28465932,  0.7571472 ],\n",
       "       [-0.24729442, -1.13265997]])"
      ]
     },
     "execution_count": 4,
     "metadata": {},
     "output_type": "execute_result"
    }
   ],
   "source": [
    "b.value"
   ]
  },
  {
   "cell_type": "code",
   "execution_count": 5,
   "id": "cc8455bd",
   "metadata": {},
   "outputs": [],
   "source": [
    "c=a+b"
   ]
  },
  {
   "cell_type": "code",
   "execution_count": 6,
   "id": "f2170ce8",
   "metadata": {},
   "outputs": [
    {
     "data": {
      "text/plain": [
       "array([[ 1.7335204 ,  1.64417059],\n",
       "       [-1.26125914, -0.88882915]])"
      ]
     },
     "execution_count": 6,
     "metadata": {},
     "output_type": "execute_result"
    }
   ],
   "source": [
    "c.value"
   ]
  },
  {
   "cell_type": "code",
   "execution_count": 7,
   "id": "606ce6f9",
   "metadata": {},
   "outputs": [
    {
     "data": {
      "text/plain": [
       "<vugrad.core.OpNode at 0x2878f81f940>"
      ]
     },
     "execution_count": 7,
     "metadata": {},
     "output_type": "execute_result"
    }
   ],
   "source": [
    "c.source"
   ]
  },
  {
   "cell_type": "code",
   "execution_count": 8,
   "id": "ee0c548a",
   "metadata": {},
   "outputs": [
    {
     "data": {
      "text/plain": [
       "array([[ 1.44886107,  0.88702338],\n",
       "       [-1.01396472,  0.24383082]])"
      ]
     },
     "execution_count": 8,
     "metadata": {},
     "output_type": "execute_result"
    }
   ],
   "source": [
    "c.source.inputs[0].value"
   ]
  },
  {
   "cell_type": "code",
   "execution_count": 9,
   "id": "0ed8c7c3",
   "metadata": {},
   "outputs": [
    {
     "data": {
      "text/plain": [
       "array([[ 0.28465932,  0.7571472 ],\n",
       "       [-0.24729442, -1.13265997]])"
      ]
     },
     "execution_count": 9,
     "metadata": {},
     "output_type": "execute_result"
    }
   ],
   "source": [
    "c.source.inputs[1].value"
   ]
  },
  {
   "cell_type": "code",
   "execution_count": 10,
   "id": "ba49f314",
   "metadata": {},
   "outputs": [
    {
     "data": {
      "text/plain": [
       "array([[0., 0.],\n",
       "       [0., 0.]])"
      ]
     },
     "execution_count": 10,
     "metadata": {},
     "output_type": "execute_result"
    }
   ],
   "source": [
    "a.grad"
   ]
  },
  {
   "cell_type": "markdown",
   "id": "42445602",
   "metadata": {},
   "source": [
    "# Question 9"
   ]
  },
  {
   "cell_type": "code",
   "execution_count": 14,
   "id": "1da1fcb7",
   "metadata": {},
   "outputs": [
    {
     "name": "stdout",
     "output_type": "stream",
     "text": [
      "## loaded data:\n",
      "         number of instances: 55000 in training, 5000 in validation\n",
      " training class distribution: [5434 6212 5465 5622 5343 4963 5436 5702 5357 5466]\n",
      "     val. class distribution: [489 530 493 509 499 458 482 563 494 483]\n",
      "\n",
      "## Starting training\n",
      "epoch 000\n",
      "       accuracy: 0.1054\n",
      "   running loss: 286.3\n",
      "epoch 001\n",
      "       accuracy: 0.1336\n",
      "   running loss: 200.8\n",
      "epoch 002\n",
      "       accuracy: 0.2794\n",
      "   running loss: 182.3\n",
      "epoch 003\n",
      "       accuracy: 0.1664\n",
      "   running loss: 152.6\n",
      "epoch 004\n",
      "       accuracy: 0.3156\n",
      "   running loss: 126.7\n",
      "epoch 005\n",
      "       accuracy: 0.252\n",
      "   running loss: 109.3\n",
      "epoch 006\n",
      "       accuracy: 0.3918\n",
      "   running loss: 97.33\n",
      "epoch 007\n",
      "       accuracy: 0.34\n",
      "   running loss: 105.4\n",
      "epoch 008\n",
      "       accuracy: 0.2782\n",
      "   running loss: 105.1\n",
      "epoch 009\n",
      "       accuracy: 0.4336\n",
      "   running loss: 114.0\n",
      "epoch 010\n",
      "       accuracy: 0.2406\n",
      "   running loss: 108.7\n",
      "epoch 011\n",
      "       accuracy: 0.3106\n",
      "   running loss: 147.5\n",
      "epoch 012\n",
      "       accuracy: 0.2572\n",
      "   running loss: 157.4\n",
      "epoch 013\n",
      "       accuracy: 0.197\n",
      "   running loss: 151.6\n",
      "epoch 014\n",
      "       accuracy: 0.189\n",
      "   running loss: 146.2\n",
      "epoch 015\n",
      "       accuracy: 0.283\n",
      "   running loss: 134.0\n",
      "epoch 016\n",
      "       accuracy: 0.3258\n",
      "   running loss: 130.7\n",
      "epoch 017\n",
      "       accuracy: 0.271\n",
      "   running loss: 120.7\n",
      "epoch 018\n",
      "       accuracy: 0.2622\n",
      "   running loss: 114.3\n",
      "epoch 019\n",
      "       accuracy: 0.3256\n",
      "   running loss: 111.1\n"
     ]
    }
   ],
   "source": [
    "from experiments._context import vugrad\n",
    "import vugrad as vg\n",
    "\n",
    "data = 'mnist'\n",
    "batch_size=128\n",
    "epochs=20\n",
    "lr=0.01\n",
    "\n",
    "## Load the data\n",
    "if data == 'synth':\n",
    "    (xtrain, ytrain), (xval, yval), num_classes = vg.load_synth()\n",
    "elif data == 'mnist':\n",
    "    (xtrain, ytrain), (xval, yval), num_classes = vg.load_mnist(final=False, flatten=True)\n",
    "else:\n",
    "    raise Exception(f'Dataset {data} not recognized.')\n",
    "\n",
    "print(f'## loaded data:')\n",
    "print(f'         number of instances: {xtrain.shape[0]} in training, {xval.shape[0]} in validation')\n",
    "print(f' training class distribution: {np.bincount(ytrain)}')\n",
    "print(f'     val. class distribution: {np.bincount(yval)}')\n",
    "\n",
    "num_instances, num_features = xtrain.shape\n",
    "\n",
    "accuracy_sigmoid = []\n",
    "loss_sigmoid = []\n",
    "\n",
    "# Create a simple neural network.\n",
    "# This is a `Module` consisting of other modules representing linear layers, provided by the vugrad library.\n",
    "class MLP(vg.Module):\n",
    "    \"\"\"\n",
    "    A simple MLP with one hidden layer, and a sigmoid non-linearity on the hidden layer and a softmax on the\n",
    "    output.\n",
    "    \"\"\"\n",
    "\n",
    "    def __init__(self, input_size, output_size, hidden_mult=4):\n",
    "        \"\"\"\n",
    "        :param input_size:\n",
    "        :param output_size:\n",
    "        :param hidden_mult: Multiplier that indicates how many times bigger the hidden layer is than the input layer.\n",
    "        \"\"\"\n",
    "        super().__init__()\n",
    "\n",
    "        hidden_size = hidden_mult * input_size\n",
    "        # -- There is no common wisdom on how big the hidden size should be, apart from the idea\n",
    "        #    that it should be strictly _bigger_ than the input if at all possible.\n",
    "\n",
    "        self.layer1 = vg.Linear(input_size, hidden_size)\n",
    "        self.layer2 = vg.Linear(hidden_size, output_size)\n",
    "        # -- The linear layer (without activation) is implemented in vugrad. We simply instantiate these modules, and\n",
    "        #    add them to our network.\n",
    "\n",
    "    def forward(self, input):\n",
    "\n",
    "        assert len(input.size()) == 2\n",
    "\n",
    "        # first layer\n",
    "        hidden = self.layer1(input)\n",
    "\n",
    "        # non-linearity\n",
    "        hidden = vg.sigmoid(hidden)\n",
    "        # -- We've called a utility function here, to mimin how this is usually done in pytorch. We could also do:\n",
    "        #    hidden = Sigmoid.do_forward(hidden)\n",
    "\n",
    "        # second layer\n",
    "        output = self.layer2(hidden)\n",
    "\n",
    "        # softmax activation\n",
    "        output = vg.logsoftmax(output)\n",
    "        # -- the logsoftmax computes the _logarithm_ of the probabilities produced by softmax. This makes the computation\n",
    "        #    of the CE loss more stable when the probabilities get close to 0 (remember that the CE loss is the logarithm\n",
    "        #    of these probabilities). It needs to be implemented in a specific way. See the source for details.\n",
    "\n",
    "        return output\n",
    "\n",
    "    def parameters(self):\n",
    "\n",
    "        return self.layer1.parameters() + self.layer2.parameters()\n",
    "\n",
    "## Instantiate the model\n",
    "mlp = MLP(input_size=num_features, output_size=num_classes)\n",
    "\n",
    "n, m = xtrain.shape\n",
    "b = batch_size\n",
    "\n",
    "print('\\n## Starting training')\n",
    "for epoch in range(epochs):\n",
    "\n",
    "    print(f'epoch {epoch:03}')\n",
    "\n",
    "    ## Compute validation accuracy\n",
    "    o = mlp(vg.TensorNode(xval))\n",
    "    oval = o.value\n",
    "\n",
    "    predictions = np.argmax(oval, axis=1)\n",
    "    num_correct = (predictions == yval).sum()\n",
    "    acc = num_correct / yval.shape[0]\n",
    "\n",
    "    o.clear() # gc the computation graph\n",
    "    print(f'       accuracy: {acc:.4}')\n",
    "    \n",
    "    accuracy_sigmoid.append(acc)\n",
    "\n",
    "    cl = 0.0 # running sum of the training loss\n",
    "\n",
    "    # We loop over the data in batches of size `b`\n",
    "    for fr in range(0, n, b):\n",
    "\n",
    "        # The end index of the batch\n",
    "        to = min(fr + b, n)\n",
    "\n",
    "        # Slice out the batch and its corresponding target values\n",
    "        batch, targets = xtrain[fr:to, :], ytrain[fr:to]\n",
    "\n",
    "        # Wrap the inputs in a Node\n",
    "        batch = vg.TensorNode(value=batch)\n",
    "\n",
    "        outputs = mlp(batch)\n",
    "        loss = vg.logceloss(outputs, targets)\n",
    "        # -- The computation graph is now complete. It consists of the MLP, together with the computation of\n",
    "        #    the scalar loss.\n",
    "        # -- The variable `loss` is the TensorNode at the very top of our computation graph. This means we can call\n",
    "        #    it to perform operations on the computation graph, like clearing the gradients, starting the backpropgation\n",
    "        #    and clearing the graph.\n",
    "        # -- Note that we set the MLP up to produce log probabilties, so we should compute the CE loss for these.\n",
    "\n",
    "        cl += loss.value\n",
    "        # -- We must be careful here to extract the _raw_ value for the running loss. What would happen if we kept\n",
    "        #    a running sum using the TensorNode?\n",
    "\n",
    "        # Start the backpropagation\n",
    "        loss.backward()\n",
    "\n",
    "        # pply gradient descent\n",
    "        for parm in mlp.parameters():\n",
    "            parm.value -= lr * parm.grad\n",
    "            # -- Note that we are directly manipulating the members of the parm TensorNode. This means that for this\n",
    "            #    part, we are not building up a computation graph.\n",
    "\n",
    "        # -- In Pytorch, the gradient descent is abstracted away into an Optimizer. This allows us to build slightly more\n",
    "        #    complexoptimizers than plain graident descent.\n",
    "\n",
    "        # Finally, we need to reset the gradients to zero ...\n",
    "        loss.zero_grad()\n",
    "        # ... and delete the parts of the computation graph we don't need to remember.\n",
    "        loss.clear()\n",
    "\n",
    "    print(f'   running loss: {cl/n:.4}')\n",
    "    loss_sigmoid.append(cl)"
   ]
  },
  {
   "cell_type": "code",
   "execution_count": 16,
   "id": "cd084701",
   "metadata": {},
   "outputs": [],
   "source": [
    "def relu(x):\n",
    "    \"\"\"\n",
    "    Wrap the relu op in a funciton (just for symmetry with the softmax).\n",
    "\n",
    "    :param x:\n",
    "    :return:\n",
    "    \"\"\"\n",
    "    return ReLU.do_forward(x)\n",
    "\n",
    "class ReLU(vg.Op):\n",
    "    \"\"\"\n",
    "    Op for element-wise application of ReLU function\n",
    "    \"\"\"\n",
    "\n",
    "    @staticmethod\n",
    "    def forward(context, input):\n",
    "\n",
    "        relux =  np.maximum(input,0)\n",
    "        context['relux'] = relux # store the relu of x for the backward pass\n",
    "        return relux\n",
    "\n",
    "    @staticmethod\n",
    "    def backward(context, goutput):\n",
    "        relux = context['relux'] \n",
    "        return goutput * np.where(relux <= 0, 0, 1)"
   ]
  },
  {
   "cell_type": "code",
   "execution_count": 17,
   "id": "7c45f826",
   "metadata": {},
   "outputs": [
    {
     "name": "stdout",
     "output_type": "stream",
     "text": [
      "\n",
      "## Starting training\n",
      "epoch 000\n",
      "       accuracy: 0.0934\n",
      "   running loss: 4.555e+14\n",
      "epoch 001\n",
      "       accuracy: 0.1018\n",
      "   running loss: 269.0\n",
      "epoch 002\n",
      "       accuracy: 0.1018\n",
      "   running loss: 2.303\n",
      "epoch 003\n",
      "       accuracy: 0.1018\n",
      "   running loss: 2.303\n",
      "epoch 004\n",
      "       accuracy: 0.1018\n",
      "   running loss: 2.303\n",
      "epoch 005\n",
      "       accuracy: 0.1018\n",
      "   running loss: 2.303\n",
      "epoch 006\n",
      "       accuracy: 0.1018\n",
      "   running loss: 2.303\n",
      "epoch 007\n",
      "       accuracy: 0.1018\n",
      "   running loss: 2.303\n",
      "epoch 008\n",
      "       accuracy: 0.1018\n",
      "   running loss: 2.303\n",
      "epoch 009\n",
      "       accuracy: 0.1018\n",
      "   running loss: 2.303\n",
      "epoch 010\n",
      "       accuracy: 0.1018\n",
      "   running loss: 2.303\n",
      "epoch 011\n",
      "       accuracy: 0.1018\n",
      "   running loss: 2.303\n",
      "epoch 012\n",
      "       accuracy: 0.1018\n",
      "   running loss: 2.303\n",
      "epoch 013\n",
      "       accuracy: 0.1018\n",
      "   running loss: 2.303\n",
      "epoch 014\n",
      "       accuracy: 0.1018\n",
      "   running loss: 2.303\n",
      "epoch 015\n",
      "       accuracy: 0.1018\n",
      "   running loss: 2.303\n",
      "epoch 016\n",
      "       accuracy: 0.1018\n",
      "   running loss: 2.303\n",
      "epoch 017\n",
      "       accuracy: 0.1018\n",
      "   running loss: 2.303\n",
      "epoch 018\n",
      "       accuracy: 0.1018\n",
      "   running loss: 2.303\n",
      "epoch 019\n",
      "       accuracy: 0.1018\n",
      "   running loss: 2.303\n"
     ]
    }
   ],
   "source": [
    "accuracy_relu = []\n",
    "loss_relu = []\n",
    "\n",
    "class MLP(vg.Module):\n",
    "    \"\"\"\n",
    "    A simple MLP with one hidden layer, and a sigmoid non-linearity on the hidden layer and a softmax on the\n",
    "    output.\n",
    "    \"\"\"\n",
    "\n",
    "    def __init__(self, input_size, output_size, hidden_mult=4):\n",
    "        \"\"\"\n",
    "        :param input_size:\n",
    "        :param output_size:\n",
    "        :param hidden_mult: Multiplier that indicates how many times bigger the hidden layer is than the input layer.\n",
    "        \"\"\"\n",
    "        super().__init__()\n",
    "\n",
    "        hidden_size = hidden_mult * input_size\n",
    "        # -- There is no common wisdom on how big the hidden size should be, apart from the idea\n",
    "        #    that it should be strictly _bigger_ than the input if at all possible.\n",
    "\n",
    "        self.layer1 = vg.Linear(input_size, hidden_size)\n",
    "        self.layer2 = vg.Linear(hidden_size, output_size)\n",
    "        # -- The linear layer (without activation) is implemented in vugrad. We simply instantiate these modules, and\n",
    "        #    add them to our network.\n",
    "\n",
    "    def forward(self, input):\n",
    "\n",
    "        assert len(input.size()) == 2\n",
    "\n",
    "        # first layer\n",
    "        hidden = self.layer1(input)\n",
    "\n",
    "        # non-linearity\n",
    "        hidden = relu(hidden)\n",
    "        # -- We've called a utility function here, to mimin how this is usually done in pytorch. We could also do:\n",
    "        #    hidden = ReLU.do_forward(hidden)\n",
    "\n",
    "        # second layer\n",
    "        output = self.layer2(hidden)\n",
    "\n",
    "        # softmax activation\n",
    "        output = vg.logsoftmax(output)\n",
    "        # -- the logsoftmax computes the _logarithm_ of the probabilities produced by softmax. This makes the computation\n",
    "        #    of the CE loss more stable when the probabilities get close to 0 (remember that the CE loss is the logarithm\n",
    "        #    of these probabilities). It needs to be implemented in a specific way. See the source for details.\n",
    "\n",
    "        return output\n",
    "\n",
    "    def parameters(self):\n",
    "\n",
    "        return self.layer1.parameters() + self.layer2.parameters()\n",
    "\n",
    "## Instantiate the model\n",
    "mlp = MLP(input_size=num_features, output_size=num_classes)\n",
    "\n",
    "n, m = xtrain.shape\n",
    "b = batch_size\n",
    "\n",
    "print('\\n## Starting training')\n",
    "for epoch in range(epochs):\n",
    "\n",
    "    print(f'epoch {epoch:03}')\n",
    "\n",
    "    ## Compute validation accuracy\n",
    "    o = mlp(vg.TensorNode(xval))\n",
    "    oval = o.value\n",
    "\n",
    "    predictions = np.argmax(oval, axis=1)\n",
    "    num_correct = (predictions == yval).sum()\n",
    "    acc = num_correct / yval.shape[0]\n",
    "\n",
    "    o.clear() # gc the computation graph\n",
    "    print(f'       accuracy: {acc:.4}')\n",
    "    \n",
    "    accuracy_relu.append(acc)\n",
    "\n",
    "    cl = 0.0 # running sum of the training loss\n",
    "\n",
    "    # We loop over the data in batches of size `b`\n",
    "    for fr in range(0, n, b):\n",
    "\n",
    "        # The end index of the batch\n",
    "        to = min(fr + b, n)\n",
    "\n",
    "        # Slice out the batch and its corresponding target values\n",
    "        batch, targets = xtrain[fr:to, :], ytrain[fr:to]\n",
    "\n",
    "        # Wrap the inputs in a Node\n",
    "        batch = vg.TensorNode(value=batch)\n",
    "\n",
    "        outputs = mlp(batch)\n",
    "        loss = vg.logceloss(outputs, targets)\n",
    "        # -- The computation graph is now complete. It consists of the MLP, together with the computation of\n",
    "        #    the scalar loss.\n",
    "        # -- The variable `loss` is the TensorNode at the very top of our computation graph. This means we can call\n",
    "        #    it to perform operations on the computation graph, like clearing the gradients, starting the backpropgation\n",
    "        #    and clearing the graph.\n",
    "        # -- Note that we set the MLP up to produce log probabilties, so we should compute the CE loss for these.\n",
    "\n",
    "        cl += loss.value\n",
    "        # -- We must be careful here to extract the _raw_ value for the running loss. What would happen if we kept\n",
    "        #    a running sum using the TensorNode?\n",
    "\n",
    "        # Start the backpropagation\n",
    "        loss.backward()\n",
    "\n",
    "        # pply gradient descent\n",
    "        for parm in mlp.parameters():\n",
    "            parm.value -= lr * parm.grad\n",
    "            # -- Note that we are directly manipulating the members of the parm TensorNode. This means that for this\n",
    "            #    part, we are not building up a computation graph.\n",
    "\n",
    "        # -- In Pytorch, the gradient descent is abstracted away into an Optimizer. This allows us to build slightly more\n",
    "        #    complexoptimizers than plain graident descent.\n",
    "\n",
    "        # Finally, we need to reset the gradients to zero ...\n",
    "        loss.zero_grad()\n",
    "        # ... and delete the parts of the computation graph we don't need to remember.\n",
    "        loss.clear()\n",
    "\n",
    "    print(f'   running loss: {cl/n:.4}')\n",
    "    loss_relu.append(cl)"
   ]
  },
  {
   "cell_type": "code",
   "execution_count": 26,
   "id": "3eead52b",
   "metadata": {},
   "outputs": [
    {
     "name": "stdout",
     "output_type": "stream",
     "text": [
      "0.3256\n",
      "0.1018\n",
      "6111456.0717619\n",
      "126668.4085601484\n"
     ]
    }
   ],
   "source": [
    "print(accuracy_sigmoid[-1])\n",
    "print(accuracy_relu[-1])\n",
    "print(loss_sigmoid[-1])\n",
    "print(loss_relu[-1])"
   ]
  },
  {
   "cell_type": "code",
   "execution_count": 19,
   "id": "1008cc53",
   "metadata": {},
   "outputs": [
    {
     "data": {
      "image/png": "[encoded data removed]",
      "text/plain": [
       "<Figure size 432x288 with 1 Axes>"
      ]
     },
     "metadata": {
      "needs_background": "light"
     },
     "output_type": "display_data"
    }
   ],
   "source": [
    "import matplotlib.pyplot as plt\n",
    "plt.plot(loss_sigmoid, label='Sigmoid')\n",
    "plt.plot(loss_relu, label='ReLU')\n",
    "plt.title('Loss: Using Sigmoid and ReLU')\n",
    "plt.xlabel('epochs')\n",
    "plt.ylabel('Loss')\n",
    "plt.legend()\n",
    "plt.show()"
   ]
  },
  {
   "cell_type": "code",
   "execution_count": 20,
   "id": "d7da88e8",
   "metadata": {},
   "outputs": [
    {
     "data": {
      "image/png": "[encoded data removed]",
      "text/plain": [
       "<Figure size 432x288 with 1 Axes>"
      ]
     },
     "metadata": {
      "needs_background": "light"
     },
     "output_type": "display_data"
    }
   ],
   "source": [
    "plt.plot(accuracy_sigmoid, label='Sigmoid')\n",
    "plt.plot(accuracy_relu, label='ReLU')\n",
    "plt.title('Accuracy: Using Sigmoid and ReLU')\n",
    "plt.xlabel('epochs')\n",
    "plt.ylabel('Accuracy')\n",
    "plt.legend()\n",
    "plt.show()"
   ]
  },
  {
   "cell_type": "markdown",
   "id": "25dba207",
   "metadata": {},
   "source": [
    "# Question 10"
   ]
  },
  {
   "cell_type": "code",
   "execution_count": 23,
   "id": "264e5b81",
   "metadata": {},
   "outputs": [],
   "source": [
    "from vugrad.core import Module, TensorNode\n",
    "\n",
    "from vugrad.ops import *\n",
    "from vugrad.functions import *\n",
    "\n",
    "class custom_Linear(Module):\n",
    "    \"\"\"\n",
    "    A linear operation. Applies a matrix transformation and a vector translation.\n",
    "    \"\"\"\n",
    "\n",
    "    def __init__(self, input_size, output_size):\n",
    "        super().__init__()\n",
    "\n",
    "        # weights of the matrix transformation\n",
    "        w = np.random.randn(output_size,input_size)*np.sqrt(2/input_size) # He initialization\n",
    "        self.w = TensorNode(w)\n",
    "\n",
    "        # weights of the bias (the translation)\n",
    "        b = np.zeros((1, output_size))\n",
    "        self.b = TensorNode(b)\n",
    "        # -- We initialize the biases to zero for simplicity. This is a common approach, but with ReLU units it's\n",
    "        #    sometimes best to add a little noise to avoid dead neurons.\n",
    "\n",
    "    def forward(self, input):\n",
    "\n",
    "        outsize, insize = self.w.size()\n",
    "        n, f = input.size()\n",
    "\n",
    "        assert f == insize, f'Number of features in input ({f}) does not match input dimension ({insize}).'\n",
    "        assert len(input.size()) == 2\n",
    "\n",
    "        # Multiply all input vectors by the weight matrix.\n",
    "        x = BatchMM.do_forward(self.w, input)\n",
    "\n",
    "        assert x.size() == (n, outsize)\n",
    "\n",
    "        exb = Expand.do_forward(self.b, dim=0, repeats=n)\n",
    "        # -- We are broadcasting the (1, outsize) vector b over the (n, outsize) matrix x. Numpy normally does this\n",
    "        #    automatically, if we just do `x + self.b`, but we wouldn't get a gradient over that operation. Expand\n",
    "        #    is a minimal broadcasting op that is sufficient for our purposes.\n",
    "        # -- In pytorch, full-featured broadcasting is implemented so there you would actually be able to do `x + self.b`.\n",
    "\n",
    "        assert x.size() == exb.size()\n",
    "\n",
    "        return x + exb\n",
    "\n",
    "    def parameters(self):\n",
    "        return [self.w, self.b]"
   ]
  },
  {
   "cell_type": "code",
   "execution_count": 25,
   "id": "7812f167",
   "metadata": {},
   "outputs": [
    {
     "name": "stdout",
     "output_type": "stream",
     "text": [
      "\n",
      "## Starting training\n",
      "epoch 000\n"
     ]
    },
    {
     "name": "stderr",
     "output_type": "stream",
     "text": [
      "D:\\Downloads\\vugrad-main\\vugrad-main\\vugrad\\ops.py:181: RuntimeWarning: overflow encountered in exp\n",
      "  sigx =  1 / (1 + np.exp(-input))\n"
     ]
    },
    {
     "name": "stdout",
     "output_type": "stream",
     "text": [
      "       accuracy: 0.0816\n",
      "   running loss: 218.8\n",
      "epoch 001\n",
      "       accuracy: 0.1086\n",
      "   running loss: 186.7\n",
      "epoch 002\n",
      "       accuracy: 0.1982\n",
      "   running loss: 180.2\n",
      "epoch 003\n",
      "       accuracy: 0.3122\n",
      "   running loss: 133.2\n",
      "epoch 004\n",
      "       accuracy: 0.2998\n",
      "   running loss: 132.8\n",
      "epoch 005\n",
      "       accuracy: 0.4304\n",
      "   running loss: 113.9\n",
      "epoch 006\n",
      "       accuracy: 0.394\n",
      "   running loss: 121.4\n",
      "epoch 007\n",
      "       accuracy: 0.3326\n",
      "   running loss: 138.9\n",
      "epoch 008\n",
      "       accuracy: 0.459\n",
      "   running loss: 123.4\n",
      "epoch 009\n",
      "       accuracy: 0.3822\n",
      "   running loss: 128.9\n",
      "epoch 010\n",
      "       accuracy: 0.2556\n",
      "   running loss: 151.3\n",
      "epoch 011\n",
      "       accuracy: 0.2554\n",
      "   running loss: 152.3\n",
      "epoch 012\n",
      "       accuracy: 0.2672\n",
      "   running loss: 127.9\n",
      "epoch 013\n",
      "       accuracy: 0.347\n",
      "   running loss: 120.4\n",
      "epoch 014\n",
      "       accuracy: 0.4006\n",
      "   running loss: 152.3\n",
      "epoch 015\n",
      "       accuracy: 0.2238\n",
      "   running loss: 146.0\n",
      "epoch 016\n",
      "       accuracy: 0.3656\n",
      "   running loss: 161.1\n",
      "epoch 017\n",
      "       accuracy: 0.2124\n",
      "   running loss: 163.1\n",
      "epoch 018\n",
      "       accuracy: 0.223\n",
      "   running loss: 150.8\n",
      "epoch 019\n",
      "       accuracy: 0.3728\n",
      "   running loss: 125.0\n"
     ]
    }
   ],
   "source": [
    "accuracy_list = []\n",
    "loss_list = []\n",
    "\n",
    "# Create a simple neural network.\n",
    "# This is a `Module` consisting of other modules representing linear layers, provided by the vugrad library.\n",
    "class MLP(vg.Module):\n",
    "    \"\"\"\n",
    "    A simple MLP with one hidden layer, and a sigmoid non-linearity on the hidden layer and a softmax on the\n",
    "    output.\n",
    "    \"\"\"\n",
    "\n",
    "    def __init__(self, input_size, output_size, hidden_mult=6):\n",
    "        \"\"\"\n",
    "        :param input_size:\n",
    "        :param output_size:\n",
    "        :param hidden_mult: Multiplier that indicates how many times bigger the hidden layer is than the input layer.\n",
    "        \"\"\"\n",
    "        super().__init__()\n",
    "\n",
    "        hidden_size = hidden_mult * input_size\n",
    "        # -- There is no common wisdom on how big the hidden size should be, apart from the idea\n",
    "        #    that it should be strictly _bigger_ than the input if at all possible.\n",
    "\n",
    "        self.layer1 = custom_Linear(input_size, hidden_size)\n",
    "        self.layer2 = custom_Linear(hidden_size, output_size)\n",
    "        # -- The linear layer (without activation) is implemented in vugrad. We simply instantiate these modules, and\n",
    "        #    add them to our network.\n",
    "\n",
    "    def forward(self, input):\n",
    "\n",
    "        assert len(input.size()) == 2\n",
    "\n",
    "        # first layer\n",
    "        hidden = self.layer1(input)\n",
    "\n",
    "        # non-linearity\n",
    "        hidden = vg.sigmoid(hidden)\n",
    "        # -- We've called a utility function here, to mimin how this is usually done in pytorch. We could also do:\n",
    "        #    hidden = Sigmoid.do_forward(hidden)\n",
    "\n",
    "        # second layer\n",
    "        output = self.layer2(hidden)\n",
    "\n",
    "        # softmax activation\n",
    "        output = vg.logsoftmax(output)\n",
    "        # -- the logsoftmax computes the _logarithm_ of the probabilities produced by softmax. This makes the computation\n",
    "        #    of the CE loss more stable when the probabilities get close to 0 (remember that the CE loss is the logarithm\n",
    "        #    of these probabilities). It needs to be implemented in a specific way. See the source for details.\n",
    "\n",
    "        return output\n",
    "\n",
    "    def parameters(self):\n",
    "\n",
    "        return self.layer1.parameters() + self.layer2.parameters()\n",
    "\n",
    "## Instantiate the model\n",
    "mlp = MLP(input_size=num_features, output_size=num_classes)\n",
    "\n",
    "n, m = xtrain.shape\n",
    "b = batch_size\n",
    "\n",
    "print('\\n## Starting training')\n",
    "for epoch in range(epochs):\n",
    "\n",
    "    print(f'epoch {epoch:03}')\n",
    "\n",
    "    ## Compute validation accuracy\n",
    "    o = mlp(vg.TensorNode(xval))\n",
    "    oval = o.value\n",
    "\n",
    "    predictions = np.argmax(oval, axis=1)\n",
    "    num_correct = (predictions == yval).sum()\n",
    "    acc = num_correct / yval.shape[0]\n",
    "\n",
    "    o.clear() # gc the computation graph\n",
    "    print(f'       accuracy: {acc:.4}')\n",
    "    \n",
    "    accuracy_list.append(acc)\n",
    "\n",
    "    cl = 0.0 # running sum of the training loss\n",
    "\n",
    "    # We loop over the data in batches of size `b`\n",
    "    for fr in range(0, n, b):\n",
    "\n",
    "        # The end index of the batch\n",
    "        to = min(fr + b, n)\n",
    "\n",
    "        # Slice out the batch and its corresponding target values\n",
    "        batch, targets = xtrain[fr:to, :], ytrain[fr:to]\n",
    "\n",
    "        # Wrap the inputs in a Node\n",
    "        batch = vg.TensorNode(value=batch)\n",
    "\n",
    "        outputs = mlp(batch)\n",
    "        loss = vg.logceloss(outputs, targets)\n",
    "        # -- The computation graph is now complete. It consists of the MLP, together with the computation of\n",
    "        #    the scalar loss.\n",
    "        # -- The variable `loss` is the TensorNode at the very top of our computation graph. This means we can call\n",
    "        #    it to perform operations on the computation graph, like clearing the gradients, starting the backpropgation\n",
    "        #    and clearing the graph.\n",
    "        # -- Note that we set the MLP up to produce log probabilties, so we should compute the CE loss for these.\n",
    "\n",
    "        cl += loss.value\n",
    "        # -- We must be careful here to extract the _raw_ value for the running loss. What would happen if we kept\n",
    "        #    a running sum using the TensorNode?\n",
    "\n",
    "        # Start the backpropagation\n",
    "        loss.backward()\n",
    "\n",
    "        # pply gradient descent\n",
    "        for parm in mlp.parameters():\n",
    "            parm.value -= lr * parm.grad\n",
    "            # -- Note that we are directly manipulating the members of the parm TensorNode. This means that for this\n",
    "            #    part, we are not building up a computation graph.\n",
    "\n",
    "        # -- In Pytorch, the gradient descent is abstracted away into an Optimizer. This allows us to build slightly more\n",
    "        #    complexoptimizers than plain graident descent.\n",
    "\n",
    "        # Finally, we need to reset the gradients to zero ...\n",
    "        loss.zero_grad()\n",
    "        # ... and delete the parts of the computation graph we don't need to remember.\n",
    "        loss.clear()\n",
    "\n",
    "    print(f'   running loss: {cl/n:.4}')\n",
    "    loss_list.append(cl)"
   ]
  },
  {
   "cell_type": "code",
   "execution_count": 27,
   "id": "3d664c35",
   "metadata": {},
   "outputs": [
    {
     "data": {
      "image/png": "[encoded data removed]",
      "text/plain": [
       "<Figure size 432x288 with 1 Axes>"
      ]
     },
     "metadata": {
      "needs_background": "light"
     },
     "output_type": "display_data"
    }
   ],
   "source": [
    "plt.plot(loss_sigmoid, label='Base')\n",
    "plt.plot(loss_list, label='Modified')\n",
    "plt.title('Loss: Using Base and Modified models')\n",
    "plt.xlabel('epochs')\n",
    "plt.ylabel('Loss')\n",
    "plt.legend()\n",
    "plt.show()"
   ]
  },
  {
   "cell_type": "code",
   "execution_count": 28,
   "id": "b1183bce",
   "metadata": {},
   "outputs": [
    {
     "data": {
      "image/png": "[encoded data removed]",
      "text/plain": [
       "<Figure size 432x288 with 1 Axes>"
      ]
     },
     "metadata": {
      "needs_background": "light"
     },
     "output_type": "display_data"
    }
   ],
   "source": [
    "plt.plot(accuracy_sigmoid, label='Base')\n",
    "plt.plot(accuracy_list, label='Modified')\n",
    "plt.title('Accuracy: Using Base and Modified models')\n",
    "plt.xlabel('epochs')\n",
    "plt.ylabel('Accuracy')\n",
    "plt.legend()\n",
    "plt.show()"
   ]
  },
  {
   "cell_type": "code",
   "execution_count": 29,
   "id": "8b444dea",
   "metadata": {},
   "outputs": [
    {
     "data": {
      "text/plain": [
       "(0.3728, 6873601.304278909)"
      ]
     },
     "execution_count": 29,
     "metadata": {},
     "output_type": "execute_result"
    }
   ],
   "source": [
    "accuracy_list[-1], loss_list[-1]"
   ]
  },
  {
   "cell_type": "code",
   "execution_count": null,
   "id": "e1300985",
   "metadata": {},
   "outputs": [],
   "source": []
  }
 ],
 "metadata": {
  "kernelspec": {
   "display_name": "Python (ptorch)",
   "language": "python",
   "name": "ptorch"
  },
  "language_info": {
   "codemirror_mode": {
    "name": "ipython",
    "version": 3
   },
   "file_extension": ".py",
   "mimetype": "text/x-python",
   "name": "python",
   "nbconvert_exporter": "python",
   "pygments_lexer": "ipython3",
   "version": "3.6.13"
  }
 },
 "nbformat": 4,
 "nbformat_minor": 5
}
